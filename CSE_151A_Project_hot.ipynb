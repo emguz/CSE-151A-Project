{
  "cells": [
    {
      "cell_type": "markdown",
      "metadata": {
        "id": "view-in-github",
        "colab_type": "text"
      },
      "source": [
        "<a href=\"https://colab.research.google.com/github/emguz/CSE-151A-Project/blob/main/CSE_151A_Project_hot.ipynb\" target=\"_parent\"><img src=\"https://colab.research.google.com/assets/colab-badge.svg\" alt=\"Open In Colab\"/></a>"
      ]
    },
    {
      "cell_type": "code",
      "execution_count": 1,
      "id": "677efa91-5336-47e1-8d2b-e4b1ded37307",
      "metadata": {
        "id": "677efa91-5336-47e1-8d2b-e4b1ded37307"
      },
      "outputs": [],
      "source": [
        "import numpy as np\n",
        "import pandas as pd\n",
        "import matplotlib.pyplot as plt\n",
        "import sklearn as skl\n",
        "import seaborn as sns\n",
        "from sklearn import datasets\n",
        "from sklearn.model_selection import cross_val_score\n",
        "from sklearn.metrics import mean_squared_error, r2_score\n",
        "from sklearn.model_selection import train_test_split"
      ]
    },
    {
      "cell_type": "markdown",
      "id": "Ua2DKodlLgcS",
      "metadata": {
        "id": "Ua2DKodlLgcS"
      },
      "source": [
        "# CSV File Upload"
      ]
    },
    {
      "cell_type": "code",
      "source": [
        "a = []\n",
        "while(1):\n",
        "    a.append('1')"
      ],
      "metadata": {
        "id": "2E8SMA1zF2Yq"
      },
      "id": "2E8SMA1zF2Yq",
      "execution_count": null,
      "outputs": []
    },
    {
      "cell_type": "code",
      "execution_count": 2,
      "id": "JpriKSoF4D_E",
      "metadata": {
        "colab": {
          "base_uri": "https://localhost:8080/"
        },
        "id": "JpriKSoF4D_E",
        "outputId": "d727d510-3076-4ba0-e1f2-10e84443028c"
      },
      "outputs": [
        {
          "output_type": "stream",
          "name": "stdout",
          "text": [
            "Drive already mounted at /content/drive; to attempt to forcibly remount, call drive.mount(\"/content/drive\", force_remount=True).\n"
          ]
        }
      ],
      "source": [
        "from google.colab import drive\n",
        "drive.mount('/content/drive')"
      ]
    },
    {
      "cell_type": "code",
      "execution_count": 3,
      "id": "d313b3d7-71db-40f6-9629-abdff668e095",
      "metadata": {
        "colab": {
          "base_uri": "https://localhost:8080/",
          "height": 92
        },
        "id": "d313b3d7-71db-40f6-9629-abdff668e095",
        "outputId": "e99f0638-3289-48b8-956b-ccd2a8cdd600"
      },
      "outputs": [
        {
          "output_type": "display_data",
          "data": {
            "text/plain": [
              "<IPython.core.display.HTML object>"
            ],
            "text/html": [
              "\n",
              "     <input type=\"file\" id=\"files-21f2633f-6101-419c-99a7-04e350b3d583\" name=\"files[]\" multiple disabled\n",
              "        style=\"border:none\" />\n",
              "     <output id=\"result-21f2633f-6101-419c-99a7-04e350b3d583\">\n",
              "      Upload widget is only available when the cell has been executed in the\n",
              "      current browser session. Please rerun this cell to enable.\n",
              "      </output>\n",
              "      <script>// Copyright 2017 Google LLC\n",
              "//\n",
              "// Licensed under the Apache License, Version 2.0 (the \"License\");\n",
              "// you may not use this file except in compliance with the License.\n",
              "// You may obtain a copy of the License at\n",
              "//\n",
              "//      http://www.apache.org/licenses/LICENSE-2.0\n",
              "//\n",
              "// Unless required by applicable law or agreed to in writing, software\n",
              "// distributed under the License is distributed on an \"AS IS\" BASIS,\n",
              "// WITHOUT WARRANTIES OR CONDITIONS OF ANY KIND, either express or implied.\n",
              "// See the License for the specific language governing permissions and\n",
              "// limitations under the License.\n",
              "\n",
              "/**\n",
              " * @fileoverview Helpers for google.colab Python module.\n",
              " */\n",
              "(function(scope) {\n",
              "function span(text, styleAttributes = {}) {\n",
              "  const element = document.createElement('span');\n",
              "  element.textContent = text;\n",
              "  for (const key of Object.keys(styleAttributes)) {\n",
              "    element.style[key] = styleAttributes[key];\n",
              "  }\n",
              "  return element;\n",
              "}\n",
              "\n",
              "// Max number of bytes which will be uploaded at a time.\n",
              "const MAX_PAYLOAD_SIZE = 100 * 1024;\n",
              "\n",
              "function _uploadFiles(inputId, outputId) {\n",
              "  const steps = uploadFilesStep(inputId, outputId);\n",
              "  const outputElement = document.getElementById(outputId);\n",
              "  // Cache steps on the outputElement to make it available for the next call\n",
              "  // to uploadFilesContinue from Python.\n",
              "  outputElement.steps = steps;\n",
              "\n",
              "  return _uploadFilesContinue(outputId);\n",
              "}\n",
              "\n",
              "// This is roughly an async generator (not supported in the browser yet),\n",
              "// where there are multiple asynchronous steps and the Python side is going\n",
              "// to poll for completion of each step.\n",
              "// This uses a Promise to block the python side on completion of each step,\n",
              "// then passes the result of the previous step as the input to the next step.\n",
              "function _uploadFilesContinue(outputId) {\n",
              "  const outputElement = document.getElementById(outputId);\n",
              "  const steps = outputElement.steps;\n",
              "\n",
              "  const next = steps.next(outputElement.lastPromiseValue);\n",
              "  return Promise.resolve(next.value.promise).then((value) => {\n",
              "    // Cache the last promise value to make it available to the next\n",
              "    // step of the generator.\n",
              "    outputElement.lastPromiseValue = value;\n",
              "    return next.value.response;\n",
              "  });\n",
              "}\n",
              "\n",
              "/**\n",
              " * Generator function which is called between each async step of the upload\n",
              " * process.\n",
              " * @param {string} inputId Element ID of the input file picker element.\n",
              " * @param {string} outputId Element ID of the output display.\n",
              " * @return {!Iterable<!Object>} Iterable of next steps.\n",
              " */\n",
              "function* uploadFilesStep(inputId, outputId) {\n",
              "  const inputElement = document.getElementById(inputId);\n",
              "  inputElement.disabled = false;\n",
              "\n",
              "  const outputElement = document.getElementById(outputId);\n",
              "  outputElement.innerHTML = '';\n",
              "\n",
              "  const pickedPromise = new Promise((resolve) => {\n",
              "    inputElement.addEventListener('change', (e) => {\n",
              "      resolve(e.target.files);\n",
              "    });\n",
              "  });\n",
              "\n",
              "  const cancel = document.createElement('button');\n",
              "  inputElement.parentElement.appendChild(cancel);\n",
              "  cancel.textContent = 'Cancel upload';\n",
              "  const cancelPromise = new Promise((resolve) => {\n",
              "    cancel.onclick = () => {\n",
              "      resolve(null);\n",
              "    };\n",
              "  });\n",
              "\n",
              "  // Wait for the user to pick the files.\n",
              "  const files = yield {\n",
              "    promise: Promise.race([pickedPromise, cancelPromise]),\n",
              "    response: {\n",
              "      action: 'starting',\n",
              "    }\n",
              "  };\n",
              "\n",
              "  cancel.remove();\n",
              "\n",
              "  // Disable the input element since further picks are not allowed.\n",
              "  inputElement.disabled = true;\n",
              "\n",
              "  if (!files) {\n",
              "    return {\n",
              "      response: {\n",
              "        action: 'complete',\n",
              "      }\n",
              "    };\n",
              "  }\n",
              "\n",
              "  for (const file of files) {\n",
              "    const li = document.createElement('li');\n",
              "    li.append(span(file.name, {fontWeight: 'bold'}));\n",
              "    li.append(span(\n",
              "        `(${file.type || 'n/a'}) - ${file.size} bytes, ` +\n",
              "        `last modified: ${\n",
              "            file.lastModifiedDate ? file.lastModifiedDate.toLocaleDateString() :\n",
              "                                    'n/a'} - `));\n",
              "    const percent = span('0% done');\n",
              "    li.appendChild(percent);\n",
              "\n",
              "    outputElement.appendChild(li);\n",
              "\n",
              "    const fileDataPromise = new Promise((resolve) => {\n",
              "      const reader = new FileReader();\n",
              "      reader.onload = (e) => {\n",
              "        resolve(e.target.result);\n",
              "      };\n",
              "      reader.readAsArrayBuffer(file);\n",
              "    });\n",
              "    // Wait for the data to be ready.\n",
              "    let fileData = yield {\n",
              "      promise: fileDataPromise,\n",
              "      response: {\n",
              "        action: 'continue',\n",
              "      }\n",
              "    };\n",
              "\n",
              "    // Use a chunked sending to avoid message size limits. See b/62115660.\n",
              "    let position = 0;\n",
              "    do {\n",
              "      const length = Math.min(fileData.byteLength - position, MAX_PAYLOAD_SIZE);\n",
              "      const chunk = new Uint8Array(fileData, position, length);\n",
              "      position += length;\n",
              "\n",
              "      const base64 = btoa(String.fromCharCode.apply(null, chunk));\n",
              "      yield {\n",
              "        response: {\n",
              "          action: 'append',\n",
              "          file: file.name,\n",
              "          data: base64,\n",
              "        },\n",
              "      };\n",
              "\n",
              "      let percentDone = fileData.byteLength === 0 ?\n",
              "          100 :\n",
              "          Math.round((position / fileData.byteLength) * 100);\n",
              "      percent.textContent = `${percentDone}% done`;\n",
              "\n",
              "    } while (position < fileData.byteLength);\n",
              "  }\n",
              "\n",
              "  // All done.\n",
              "  yield {\n",
              "    response: {\n",
              "      action: 'complete',\n",
              "    }\n",
              "  };\n",
              "}\n",
              "\n",
              "scope.google = scope.google || {};\n",
              "scope.google.colab = scope.google.colab || {};\n",
              "scope.google.colab._files = {\n",
              "  _uploadFiles,\n",
              "  _uploadFilesContinue,\n",
              "};\n",
              "})(self);\n",
              "</script> "
            ]
          },
          "metadata": {}
        },
        {
          "output_type": "stream",
          "name": "stdout",
          "text": [
            "Saving kaggle.json to kaggle.json\n"
          ]
        },
        {
          "output_type": "execute_result",
          "data": {
            "text/plain": [
              "{'kaggle.json': b'{\"username\":\"kekoapickett\",\"key\":\"58c3cf46ccc730ac291b09d45f80dc39\"}'}"
            ]
          },
          "metadata": {},
          "execution_count": 3
        }
      ],
      "source": [
        "# all_data_csv = glob.glob(\"data/*.csv\")\n",
        "from google.colab import files\n",
        "# Choosing Kaggle key file from local computer\n",
        "# To get a kaggle key, you have to log into your kaggle account and go to your account settings\n",
        "# Scroll down to the API section and create a new token\n",
        "# You should be able to download a file named 'kaggle' and this is the one you upload\n",
        "files.upload()"
      ]
    },
    {
      "cell_type": "code",
      "execution_count": 4,
      "id": "UUU75AL7DnXv",
      "metadata": {
        "id": "UUU75AL7DnXv"
      },
      "outputs": [],
      "source": [
        "!mkdir -p ~/.kaggle\n",
        "!mv kaggle.json ~/.kaggle/\n",
        "!chmod 600 ~/.kaggle/kaggle.json"
      ]
    },
    {
      "cell_type": "code",
      "execution_count": 5,
      "id": "j_qfDWE6EBp7",
      "metadata": {
        "colab": {
          "base_uri": "https://localhost:8080/"
        },
        "id": "j_qfDWE6EBp7",
        "outputId": "1dd18260-d2ec-4d0d-e26b-bf09856636a3"
      },
      "outputs": [
        {
          "output_type": "stream",
          "name": "stdout",
          "text": [
            "Dataset URL: https://www.kaggle.com/datasets/mexwell/nba-shots\n",
            "License(s): other\n",
            "Downloading nba-shots.zip to /content\n",
            "100% 80.0M/80.4M [00:03<00:00, 33.1MB/s]\n",
            "100% 80.4M/80.4M [00:03<00:00, 24.2MB/s]\n"
          ]
        }
      ],
      "source": [
        "!kaggle datasets download -d mexwell/nba-shots"
      ]
    },
    {
      "cell_type": "code",
      "execution_count": 6,
      "id": "66TFygyqHQom",
      "metadata": {
        "colab": {
          "base_uri": "https://localhost:8080/"
        },
        "id": "66TFygyqHQom",
        "outputId": "681236d6-1930-4a9a-f21b-cb70ff855d22"
      },
      "outputs": [
        {
          "output_type": "stream",
          "name": "stdout",
          "text": [
            "Archive:  nba-shots.zip\n",
            "  inflating: NBA_2004_Shots.csv      \n",
            "  inflating: NBA_2005_Shots.csv      \n",
            "  inflating: NBA_2006_Shots.csv      \n",
            "  inflating: NBA_2007_Shots.csv      \n",
            "  inflating: NBA_2008_Shots.csv      \n",
            "  inflating: NBA_2009_Shots.csv      \n",
            "  inflating: NBA_2010_Shots.csv      \n",
            "  inflating: NBA_2011_Shots.csv      \n",
            "  inflating: NBA_2012_Shots.csv      \n",
            "  inflating: NBA_2013_Shots.csv      \n",
            "  inflating: NBA_2014_Shots.csv      \n",
            "  inflating: NBA_2015_Shots.csv      \n",
            "  inflating: NBA_2016_Shots.csv      \n",
            "  inflating: NBA_2017_Shots.csv      \n",
            "  inflating: NBA_2018_Shots.csv      \n",
            "  inflating: NBA_2019_Shots.csv      \n",
            "  inflating: NBA_2020_Shots.csv      \n",
            "  inflating: NBA_2021_Shots.csv      \n",
            "  inflating: NBA_2022_Shots.csv      \n",
            "  inflating: NBA_2023_Shots.csv      \n",
            "  inflating: NBA_2024_Shots.csv      \n"
          ]
        }
      ],
      "source": [
        "!unzip \\*.zip && rm *.zip"
      ]
    },
    {
      "cell_type": "code",
      "execution_count": 7,
      "id": "vE5p4tPwEMUq",
      "metadata": {
        "id": "vE5p4tPwEMUq"
      },
      "outputs": [],
      "source": [
        "# Consolidating all csv files\n",
        "import os\n",
        "file_names = os.listdir()\n",
        "all_data_csv = [file for file in file_names if file.endswith('.csv')]"
      ]
    },
    {
      "cell_type": "code",
      "execution_count": 8,
      "id": "9aa5dabc-c37b-4ca1-8f7f-df4dd6aeec74",
      "metadata": {
        "id": "9aa5dabc-c37b-4ca1-8f7f-df4dd6aeec74"
      },
      "outputs": [],
      "source": [
        "dfs_combine = []\n",
        "\n",
        "# for each file, add to dfs_combine\n",
        "for file in all_data_csv:\n",
        "    df = pd.read_csv(file)\n",
        "    dfs_combine.append(df)\n",
        "\n",
        "# join dfs together\n",
        "df_all_data = pd.concat(dfs_combine, ignore_index=True)\n",
        "\n",
        "# save combined dfs into new file\n",
        "df_all_data.to_csv('all_years.csv', index=False)"
      ]
    },
    {
      "cell_type": "code",
      "execution_count": 9,
      "id": "ZxEZPt_dI68O",
      "metadata": {
        "id": "ZxEZPt_dI68O"
      },
      "outputs": [],
      "source": [
        "# removes the individual year csv files from directory\n",
        "for file in all_data_csv:\n",
        "  os.remove(file)\n"
      ]
    },
    {
      "cell_type": "markdown",
      "id": "BCMO3r_LLwXU",
      "metadata": {
        "id": "BCMO3r_LLwXU"
      },
      "source": [
        "# Exploration"
      ]
    },
    {
      "cell_type": "code",
      "execution_count": 10,
      "id": "77IaaojCMQL3",
      "metadata": {
        "id": "77IaaojCMQL3",
        "colab": {
          "base_uri": "https://localhost:8080/",
          "height": 311
        },
        "outputId": "7faab4c5-708a-40aa-e885-5c8b58018cea"
      },
      "outputs": [
        {
          "output_type": "error",
          "ename": "FileNotFoundError",
          "evalue": "[Errno 2] No such file or directory: 'all_years.csv'",
          "traceback": [
            "\u001b[0;31m---------------------------------------------------------------------------\u001b[0m",
            "\u001b[0;31mFileNotFoundError\u001b[0m                         Traceback (most recent call last)",
            "\u001b[0;32m<ipython-input-10-73a484e1b2b7>\u001b[0m in \u001b[0;36m<cell line: 1>\u001b[0;34m()\u001b[0m\n\u001b[0;32m----> 1\u001b[0;31m \u001b[0mdata\u001b[0m \u001b[0;34m=\u001b[0m \u001b[0mpd\u001b[0m\u001b[0;34m.\u001b[0m\u001b[0mread_csv\u001b[0m\u001b[0;34m(\u001b[0m\u001b[0;34m'all_years.csv'\u001b[0m\u001b[0;34m)\u001b[0m\u001b[0;34m\u001b[0m\u001b[0;34m\u001b[0m\u001b[0m\n\u001b[0m",
            "\u001b[0;32m/usr/local/lib/python3.10/dist-packages/pandas/io/parsers/readers.py\u001b[0m in \u001b[0;36mread_csv\u001b[0;34m(filepath_or_buffer, sep, delimiter, header, names, index_col, usecols, dtype, engine, converters, true_values, false_values, skipinitialspace, skiprows, skipfooter, nrows, na_values, keep_default_na, na_filter, verbose, skip_blank_lines, parse_dates, infer_datetime_format, keep_date_col, date_parser, date_format, dayfirst, cache_dates, iterator, chunksize, compression, thousands, decimal, lineterminator, quotechar, quoting, doublequote, escapechar, comment, encoding, encoding_errors, dialect, on_bad_lines, delim_whitespace, low_memory, memory_map, float_precision, storage_options, dtype_backend)\u001b[0m\n\u001b[1;32m   1024\u001b[0m     \u001b[0mkwds\u001b[0m\u001b[0;34m.\u001b[0m\u001b[0mupdate\u001b[0m\u001b[0;34m(\u001b[0m\u001b[0mkwds_defaults\u001b[0m\u001b[0;34m)\u001b[0m\u001b[0;34m\u001b[0m\u001b[0;34m\u001b[0m\u001b[0m\n\u001b[1;32m   1025\u001b[0m \u001b[0;34m\u001b[0m\u001b[0m\n\u001b[0;32m-> 1026\u001b[0;31m     \u001b[0;32mreturn\u001b[0m \u001b[0m_read\u001b[0m\u001b[0;34m(\u001b[0m\u001b[0mfilepath_or_buffer\u001b[0m\u001b[0;34m,\u001b[0m \u001b[0mkwds\u001b[0m\u001b[0;34m)\u001b[0m\u001b[0;34m\u001b[0m\u001b[0;34m\u001b[0m\u001b[0m\n\u001b[0m\u001b[1;32m   1027\u001b[0m \u001b[0;34m\u001b[0m\u001b[0m\n\u001b[1;32m   1028\u001b[0m \u001b[0;34m\u001b[0m\u001b[0m\n",
            "\u001b[0;32m/usr/local/lib/python3.10/dist-packages/pandas/io/parsers/readers.py\u001b[0m in \u001b[0;36m_read\u001b[0;34m(filepath_or_buffer, kwds)\u001b[0m\n\u001b[1;32m    618\u001b[0m \u001b[0;34m\u001b[0m\u001b[0m\n\u001b[1;32m    619\u001b[0m     \u001b[0;31m# Create the parser.\u001b[0m\u001b[0;34m\u001b[0m\u001b[0;34m\u001b[0m\u001b[0m\n\u001b[0;32m--> 620\u001b[0;31m     \u001b[0mparser\u001b[0m \u001b[0;34m=\u001b[0m \u001b[0mTextFileReader\u001b[0m\u001b[0;34m(\u001b[0m\u001b[0mfilepath_or_buffer\u001b[0m\u001b[0;34m,\u001b[0m \u001b[0;34m**\u001b[0m\u001b[0mkwds\u001b[0m\u001b[0;34m)\u001b[0m\u001b[0;34m\u001b[0m\u001b[0;34m\u001b[0m\u001b[0m\n\u001b[0m\u001b[1;32m    621\u001b[0m \u001b[0;34m\u001b[0m\u001b[0m\n\u001b[1;32m    622\u001b[0m     \u001b[0;32mif\u001b[0m \u001b[0mchunksize\u001b[0m \u001b[0;32mor\u001b[0m \u001b[0miterator\u001b[0m\u001b[0;34m:\u001b[0m\u001b[0;34m\u001b[0m\u001b[0;34m\u001b[0m\u001b[0m\n",
            "\u001b[0;32m/usr/local/lib/python3.10/dist-packages/pandas/io/parsers/readers.py\u001b[0m in \u001b[0;36m__init__\u001b[0;34m(self, f, engine, **kwds)\u001b[0m\n\u001b[1;32m   1618\u001b[0m \u001b[0;34m\u001b[0m\u001b[0m\n\u001b[1;32m   1619\u001b[0m         \u001b[0mself\u001b[0m\u001b[0;34m.\u001b[0m\u001b[0mhandles\u001b[0m\u001b[0;34m:\u001b[0m \u001b[0mIOHandles\u001b[0m \u001b[0;34m|\u001b[0m \u001b[0;32mNone\u001b[0m \u001b[0;34m=\u001b[0m \u001b[0;32mNone\u001b[0m\u001b[0;34m\u001b[0m\u001b[0;34m\u001b[0m\u001b[0m\n\u001b[0;32m-> 1620\u001b[0;31m         \u001b[0mself\u001b[0m\u001b[0;34m.\u001b[0m\u001b[0m_engine\u001b[0m \u001b[0;34m=\u001b[0m \u001b[0mself\u001b[0m\u001b[0;34m.\u001b[0m\u001b[0m_make_engine\u001b[0m\u001b[0;34m(\u001b[0m\u001b[0mf\u001b[0m\u001b[0;34m,\u001b[0m \u001b[0mself\u001b[0m\u001b[0;34m.\u001b[0m\u001b[0mengine\u001b[0m\u001b[0;34m)\u001b[0m\u001b[0;34m\u001b[0m\u001b[0;34m\u001b[0m\u001b[0m\n\u001b[0m\u001b[1;32m   1621\u001b[0m \u001b[0;34m\u001b[0m\u001b[0m\n\u001b[1;32m   1622\u001b[0m     \u001b[0;32mdef\u001b[0m \u001b[0mclose\u001b[0m\u001b[0;34m(\u001b[0m\u001b[0mself\u001b[0m\u001b[0;34m)\u001b[0m \u001b[0;34m->\u001b[0m \u001b[0;32mNone\u001b[0m\u001b[0;34m:\u001b[0m\u001b[0;34m\u001b[0m\u001b[0;34m\u001b[0m\u001b[0m\n",
            "\u001b[0;32m/usr/local/lib/python3.10/dist-packages/pandas/io/parsers/readers.py\u001b[0m in \u001b[0;36m_make_engine\u001b[0;34m(self, f, engine)\u001b[0m\n\u001b[1;32m   1878\u001b[0m                 \u001b[0;32mif\u001b[0m \u001b[0;34m\"b\"\u001b[0m \u001b[0;32mnot\u001b[0m \u001b[0;32min\u001b[0m \u001b[0mmode\u001b[0m\u001b[0;34m:\u001b[0m\u001b[0;34m\u001b[0m\u001b[0;34m\u001b[0m\u001b[0m\n\u001b[1;32m   1879\u001b[0m                     \u001b[0mmode\u001b[0m \u001b[0;34m+=\u001b[0m \u001b[0;34m\"b\"\u001b[0m\u001b[0;34m\u001b[0m\u001b[0;34m\u001b[0m\u001b[0m\n\u001b[0;32m-> 1880\u001b[0;31m             self.handles = get_handle(\n\u001b[0m\u001b[1;32m   1881\u001b[0m                 \u001b[0mf\u001b[0m\u001b[0;34m,\u001b[0m\u001b[0;34m\u001b[0m\u001b[0;34m\u001b[0m\u001b[0m\n\u001b[1;32m   1882\u001b[0m                 \u001b[0mmode\u001b[0m\u001b[0;34m,\u001b[0m\u001b[0;34m\u001b[0m\u001b[0;34m\u001b[0m\u001b[0m\n",
            "\u001b[0;32m/usr/local/lib/python3.10/dist-packages/pandas/io/common.py\u001b[0m in \u001b[0;36mget_handle\u001b[0;34m(path_or_buf, mode, encoding, compression, memory_map, is_text, errors, storage_options)\u001b[0m\n\u001b[1;32m    871\u001b[0m         \u001b[0;32mif\u001b[0m \u001b[0mioargs\u001b[0m\u001b[0;34m.\u001b[0m\u001b[0mencoding\u001b[0m \u001b[0;32mand\u001b[0m \u001b[0;34m\"b\"\u001b[0m \u001b[0;32mnot\u001b[0m \u001b[0;32min\u001b[0m \u001b[0mioargs\u001b[0m\u001b[0;34m.\u001b[0m\u001b[0mmode\u001b[0m\u001b[0;34m:\u001b[0m\u001b[0;34m\u001b[0m\u001b[0;34m\u001b[0m\u001b[0m\n\u001b[1;32m    872\u001b[0m             \u001b[0;31m# Encoding\u001b[0m\u001b[0;34m\u001b[0m\u001b[0;34m\u001b[0m\u001b[0m\n\u001b[0;32m--> 873\u001b[0;31m             handle = open(\n\u001b[0m\u001b[1;32m    874\u001b[0m                 \u001b[0mhandle\u001b[0m\u001b[0;34m,\u001b[0m\u001b[0;34m\u001b[0m\u001b[0;34m\u001b[0m\u001b[0m\n\u001b[1;32m    875\u001b[0m                 \u001b[0mioargs\u001b[0m\u001b[0;34m.\u001b[0m\u001b[0mmode\u001b[0m\u001b[0;34m,\u001b[0m\u001b[0;34m\u001b[0m\u001b[0;34m\u001b[0m\u001b[0m\n",
            "\u001b[0;31mFileNotFoundError\u001b[0m: [Errno 2] No such file or directory: 'all_years.csv'"
          ]
        }
      ],
      "source": [
        "data = pd.read_csv('all_years.csv')"
      ]
    },
    {
      "cell_type": "code",
      "execution_count": null,
      "id": "ykX___KQMg_p",
      "metadata": {
        "id": "ykX___KQMg_p"
      },
      "outputs": [],
      "source": [
        "print('Data Columns: ')\n",
        "print(data.columns)\n",
        "print('Data Shape: ')\n",
        "print(data.shape)"
      ]
    },
    {
      "cell_type": "code",
      "execution_count": null,
      "id": "IFacL8p5Mi4J",
      "metadata": {
        "id": "IFacL8p5Mi4J"
      },
      "outputs": [],
      "source": [
        "data.head()"
      ]
    },
    {
      "cell_type": "code",
      "execution_count": null,
      "id": "rQu_itfCMjbZ",
      "metadata": {
        "id": "rQu_itfCMjbZ"
      },
      "outputs": [],
      "source": [
        "for attribute in data.columns:\n",
        "    print('-----' + attribute + '-----')\n",
        "    print(data[attribute].unique())\n",
        "    print('\\n')"
      ]
    },
    {
      "cell_type": "code",
      "execution_count": null,
      "id": "lKtuGa2PMlJ-",
      "metadata": {
        "id": "lKtuGa2PMlJ-"
      },
      "outputs": [],
      "source": [
        "# ['SEASON_1', 'SEASON_2', 'TEAM_ID', 'TEAM_NAME', 'PLAYER_ID',\n",
        "#  'PLAYER_NAME', 'POSITION_GROUP', 'POSITION', 'GAME_DATE', 'GAME_ID',\n",
        "#  'HOME_TEAM', 'AWAY_TEAM', 'EVENT_TYPE', 'SHOT_MADE', 'ACTION_TYPE',\n",
        "#  'SHOT_TYPE', 'BASIC_ZONE', 'ZONE_NAME', 'ZONE_ABB', 'ZONE_RANGE',\n",
        "#  'LOC_X', 'LOC_Y', 'SHOT_DISTANCE', 'QUARTER', 'MINS_LEFT', 'SECS_LEFT']\n",
        "\n",
        "# data already clean -> separate into attribute categories\n",
        "\n",
        "pred_attrib = ['EVENT_TYPE', 'SHOT_MADE']\n",
        "numerical_attrib = ['SEASON_1', 'TEAM_ID', 'PLAYER_ID', 'GAME_ID', 'LOC_X', 'LOC_Y', 'SHOT_DISTANCE', 'QUARTER', 'MINS_LEFT', 'SECS_LEFT']\n",
        "categorical_attrib = list(set(data.columns) - set(pred_attrib) - set(numerical_attrib))"
      ]
    },
    {
      "cell_type": "code",
      "execution_count": null,
      "id": "cLuFuAT-Mn8n",
      "metadata": {
        "id": "cLuFuAT-Mn8n"
      },
      "outputs": [],
      "source": [
        "# heatmap w/ numerical attributes\n",
        "\n",
        "# make figure larger\n",
        "fig, ax = plt.subplots(figsize=(10,10))\n",
        "\n",
        "heat_vars = numerical_attrib.copy()\n",
        "heat_vars.append('SHOT_MADE')\n",
        "sns.heatmap(data[heat_vars].corr(), annot=True,vmin=-1, vmax=1, center= 0, ax=ax)"
      ]
    },
    {
      "cell_type": "code",
      "execution_count": null,
      "id": "XvzqEIOkMpz2",
      "metadata": {
        "id": "XvzqEIOkMpz2"
      },
      "outputs": [],
      "source": [
        "# pairplot with sample of data\n",
        "sample = data.sample(int(len(data) * 0.0005))\n",
        "sns.pairplot(sample, hue='SEASON_1', diag_kind='auto')"
      ]
    },
    {
      "cell_type": "markdown",
      "id": "ez8XYPUJNVKo",
      "metadata": {
        "id": "ez8XYPUJNVKo"
      },
      "source": [
        "# Pre-Processing"
      ]
    },
    {
      "cell_type": "code",
      "execution_count": null,
      "id": "BqJ2WXsiTCKc",
      "metadata": {
        "id": "BqJ2WXsiTCKc"
      },
      "outputs": [],
      "source": [
        "print(data.columns)"
      ]
    },
    {
      "cell_type": "code",
      "execution_count": null,
      "id": "ro37Hsj3So9s",
      "metadata": {
        "id": "ro37Hsj3So9s"
      },
      "outputs": [],
      "source": [
        "# Dropping redundant attributes\n",
        "Preprocessed_Data = data.drop('SEASON_2', axis=1)\n",
        "Preprocessed_Data = Preprocessed_Data.drop('TEAM_NAME', axis=1)\n",
        "Preprocessed_Data = Preprocessed_Data.drop('PLAYER_NAME', axis=1)\n",
        "Preprocessed_Data = Preprocessed_Data.drop('POSITION', axis=1)\n",
        "Preprocessed_Data = Preprocessed_Data.drop('GAME_DATE', axis=1)\n",
        "Preprocessed_Data = Preprocessed_Data.drop('EVENT_TYPE', axis=1)\n",
        "Preprocessed_Data = Preprocessed_Data.drop('ZONE_NAME', axis=1)"
      ]
    },
    {
      "cell_type": "code",
      "execution_count": null,
      "id": "p5wVkNPMXvXT",
      "metadata": {
        "id": "p5wVkNPMXvXT"
      },
      "outputs": [],
      "source": [
        "# Encoding Categorical data\n",
        "\n",
        "attributes_to_encode = ['POSITION_GROUP', 'HOME_TEAM', 'AWAY_TEAM', 'ACTION_TYPE', 'SHOT_TYPE', 'BASIC_ZONE', 'ZONE_ABB', 'ZONE_RANGE']\n",
        "\n",
        "for attribute in attributes_to_encode:\n",
        "  encoding = 0\n",
        "  observations = Preprocessed_Data[attribute].unique()\n",
        "  for observation in observations:\n",
        "    if pd.isna(observation): # Checks for NAN\n",
        "      Preprocessed_Data.loc[Preprocessed_Data[attribute].isna(), attribute] = -1\n",
        "    else:\n",
        "      Preprocessed_Data.loc[Preprocessed_Data[attribute] == observation, attribute] = encoding\n",
        "      encoding += 1"
      ]
    },
    {
      "cell_type": "code",
      "execution_count": null,
      "id": "VxpUKnaGesNS",
      "metadata": {
        "id": "VxpUKnaGesNS"
      },
      "outputs": [],
      "source": [
        "# Further Exploration\n",
        "\n",
        "Preprocessed_Data.info()"
      ]
    },
    {
      "cell_type": "code",
      "execution_count": null,
      "id": "5wKMxn3ZlYRK",
      "metadata": {
        "id": "5wKMxn3ZlYRK"
      },
      "outputs": [],
      "source": [
        "# heatmap w/ preprocessed attributes\n",
        "\n",
        "# make figure larger\n",
        "fig, ax = plt.subplots(figsize=(20,20))\n",
        "\n",
        "attributes = list(Preprocessed_Data.columns)\n",
        "heat_vars = attributes.copy()\n",
        "sns.heatmap(Preprocessed_Data[heat_vars].corr(), annot=True,vmin=-1, vmax=1, center= 0, ax=ax)"
      ]
    },
    {
      "cell_type": "code",
      "execution_count": null,
      "id": "vH0Oh0AOJOgt",
      "metadata": {
        "id": "vH0Oh0AOJOgt"
      },
      "outputs": [],
      "source": [
        "# Zone Range and shot type are highly correlated, dropping shot dist\n",
        "Preprocessed_Data = Preprocessed_Data.drop(columns='SHOT_DISTANCE', axis=1)\n",
        "\n",
        "# Also dropping Season_1 and Game_ID\n",
        "Preprocessed_Data = Preprocessed_Data.drop(columns='GAME_ID', axis=1)\n",
        "Preprocessed_Data = Preprocessed_Data.drop(columns='SEASON_1', axis=1)"
      ]
    },
    {
      "cell_type": "code",
      "execution_count": null,
      "id": "DGbFCWnuLI6y",
      "metadata": {
        "collapsed": true,
        "id": "DGbFCWnuLI6y"
      },
      "outputs": [],
      "source": [
        "# Second heatmap to check for other highly correlated values\n",
        "\n",
        "fig, ax = plt.subplots(figsize=(20,20))\n",
        "\n",
        "attributes = list(Preprocessed_Data.columns)\n",
        "heat_vars = attributes.copy()\n",
        "sns.heatmap(Preprocessed_Data[heat_vars].corr(), annot=True,vmin=-1, vmax=1, center= 0, ax=ax)"
      ]
    },
    {
      "cell_type": "markdown",
      "id": "qwht2A4jXZJW",
      "metadata": {
        "id": "qwht2A4jXZJW"
      },
      "source": [
        "# First Model"
      ]
    },
    {
      "cell_type": "code",
      "execution_count": null,
      "id": "sLKLFNUbQmWC",
      "metadata": {
        "id": "sLKLFNUbQmWC"
      },
      "outputs": [],
      "source": [
        "# Splitting data (20/80 split)\n",
        "y = Preprocessed_Data.SHOT_MADE\n",
        "x = Preprocessed_Data.drop('SHOT_MADE', axis=1)\n",
        "x_train, x_test, y_train, y_test = train_test_split(x, y, test_size=0.2, random_state=21)\n",
        "\n",
        "# Checking if our data has the right dimensions\n",
        "print('xTrain shape:', x_train.shape)\n",
        "print('yTrain shape:', y_train.shape)\n",
        "print('xTest shape:', x_train.shape)\n",
        "print('yTest shape:', y_test.shape)"
      ]
    },
    {
      "cell_type": "code",
      "execution_count": null,
      "id": "FrtZRYanS1Js",
      "metadata": {
        "id": "FrtZRYanS1Js"
      },
      "outputs": [],
      "source": [
        "# Scaling data\n",
        "from sklearn.preprocessing import StandardScaler\n",
        "# from sklearn.preprocessing import OneHotEncoder\n",
        "\n",
        "x_numerical_columns = ['TEAM_ID', 'PLAYER_ID', 'LOC_X', 'LOC_Y', 'QUARTER', 'MINS_LEFT', 'SECS_LEFT']\n",
        "x_categorical_columns = ['POSITION_GROUP', 'HOME_TEAM', 'AWAY_TEAM', 'ACTION_TYPE', 'SHOT_TYPE', 'BASIC_ZONE', 'ZONE_ABB', 'ZONE_RANGE']\n",
        "\n",
        "# Scaling numerical data\n",
        "scaler = StandardScaler()\n",
        "scaler.fit(Preprocessed_Data[x_numerical_columns])\n",
        "# x_test_numerical = scaler.transform(x_test_numerical)\n",
        "\n",
        "\n",
        "\n",
        "# Encoding categorical data\n",
        "# make sparse_output=False to ensure a numpy array for an ouput, will be useful for concatenating data\n",
        "# one_hot_encoder = OneHotEncoder(sparse_output=False)\n",
        "preprocessed_hot = pd.get_dummies(Preprocessed_Data, columns= x_categorical_columns)\n",
        "x_train, x_test, y_train, y_test = train_test_split(preprocessed_hot.drop('SHOT_MADE', axis=1), preprocessed_hot.SHOT_MADE, test_size=0.2, random_state=21)\n",
        "\n",
        "x_train_numerical = scaler.transform(x_train[x_numerical_columns])\n",
        "x_test_numerical = scaler.transform(x_test[x_numerical_columns])\n",
        "x_train_numerical = pd.DataFrame(x_train_numerical, columns=x_numerical_columns, index=x_train.index)\n",
        "x_test_numerical = pd.DataFrame(x_test_numerical, columns=x_numerical_columns, index=x_test.index)\n",
        "x_train_scaled = x_train.copy()\n",
        "x_test_scaled = x_test.copy()\n",
        "x_train_scaled[x_numerical_columns] = x_train_numerical\n",
        "x_test_scaled[x_numerical_columns] = x_test_numerical\n",
        "\n"
      ]
    },
    {
      "cell_type": "code",
      "execution_count": null,
      "id": "LLwj9_-7uTdd",
      "metadata": {
        "id": "LLwj9_-7uTdd"
      },
      "outputs": [],
      "source": [
        "print('Encoded and scaled data: ')\n",
        "print(x_train_scaled.head())\n",
        "print(' x_train shape: ', x_train_scaled.shape)\n",
        "print(' x_test shape: ', x_test_scaled.shape)"
      ]
    },
    {
      "cell_type": "code",
      "execution_count": null,
      "id": "rMmjg8qYtKZL",
      "metadata": {
        "id": "rMmjg8qYtKZL"
      },
      "outputs": [],
      "source": [
        "# Updating x_train and x_test arrays\n",
        "x_train = x_train_scaled\n",
        "x_test = x_test_scaled\n",
        "\n",
        "# Checking if our data has the right dimensions\n",
        "print('xTrain shape:', x_train.shape)\n",
        "print('yTrain shape:', y_train.shape)\n",
        "print('xTest shape:', x_test.shape)\n",
        "print('yTest shape:', y_test.shape)"
      ]
    },
    {
      "cell_type": "code",
      "execution_count": null,
      "id": "PzpnlumoWpe1",
      "metadata": {
        "id": "PzpnlumoWpe1"
      },
      "outputs": [],
      "source": [
        "# Training first model (Logistic Regression)\n",
        "from sklearn.linear_model import LogisticRegression\n",
        "from sklearn.metrics import classification_report\n",
        "\n",
        "logisticModel = LogisticRegression(max_iter=1000)\n",
        "logisticModel = logisticModel.fit(x_train, y_train)\n",
        "\n",
        "# Evaluating Model\n",
        "y_train_pred = logisticModel.predict(x_train)\n",
        "y_test_pred = logisticModel.predict(x_test)\n",
        "\n",
        "# Printing Reports\n",
        "\n",
        "print(classification_report(y_test, y_test_pred))"
      ]
    },
    {
      "cell_type": "code",
      "execution_count": null,
      "id": "XZY2bm_Vi9TB",
      "metadata": {
        "id": "XZY2bm_Vi9TB"
      },
      "outputs": [],
      "source": [
        "# TODO\n",
        "# Fill in NAN values (making this a seperate ) [DONE]\n",
        "# Second data exploration round, i.e. heat map [DONE]\n",
        "# Get rid of attributes that correlate too much [DONE]\n",
        "# Scale numerical attributes [DONE]\n",
        "# One-hot-encode unordered(all of them) categorical values [DONE]\n",
        "# Run first model (logistic regression) [DONE]\n",
        "# Evaluate model, compare training vs test error [DONE]\n",
        "# Answer 4-6 in write up"
      ]
    },
    {
      "cell_type": "markdown",
      "id": "ovtmp1Jsn1WV",
      "metadata": {
        "id": "ovtmp1Jsn1WV"
      },
      "source": [
        "# Printing"
      ]
    },
    {
      "cell_type": "code",
      "execution_count": null,
      "id": "Yebx8Vslpcu3",
      "metadata": {
        "id": "Yebx8Vslpcu3"
      },
      "outputs": [],
      "source": [
        "!apt-get update"
      ]
    },
    {
      "cell_type": "code",
      "execution_count": null,
      "id": "vrw2lpFGn322",
      "metadata": {
        "id": "vrw2lpFGn322"
      },
      "outputs": [],
      "source": [
        "!pip install nbconvert\n",
        "!apt-get install pandoc\n",
        "!apt-get install texlive-xetex texlive-fonts-recommended texlive-plain-generic -y"
      ]
    },
    {
      "cell_type": "code",
      "execution_count": null,
      "id": "Yh0yBKFBn4sn",
      "metadata": {
        "id": "Yh0yBKFBn4sn"
      },
      "outputs": [],
      "source": [
        "!jupyter nbconvert --to pdf \"/content/drive/MyDrive/CSE-151A-Project/CSE_151A_Project.ipynb\""
      ]
    }
  ],
  "metadata": {
    "colab": {
      "collapsed_sections": [
        "Ua2DKodlLgcS",
        "BCMO3r_LLwXU"
      ],
      "provenance": [],
      "include_colab_link": true
    },
    "kernelspec": {
      "display_name": "Python 3",
      "language": "python",
      "name": "python3"
    },
    "language_info": {
      "codemirror_mode": {
        "name": "ipython",
        "version": 3
      },
      "file_extension": ".py",
      "mimetype": "text/x-python",
      "name": "python",
      "nbconvert_exporter": "python",
      "pygments_lexer": "ipython3",
      "version": "3.8.8"
    }
  },
  "nbformat": 4,
  "nbformat_minor": 5
}